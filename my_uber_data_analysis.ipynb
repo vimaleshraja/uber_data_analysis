{
  "nbformat": 4,
  "nbformat_minor": 0,
  "metadata": {
    "colab": {
      "provenance": [],
      "authorship_tag": "ABX9TyNAs0msAGGAyxwCKdhsPJBx",
      "include_colab_link": true
    },
    "kernelspec": {
      "name": "python3",
      "display_name": "Python 3"
    },
    "language_info": {
      "name": "python"
    }
  },
  "cells": [
    {
      "cell_type": "markdown",
      "metadata": {
        "id": "view-in-github",
        "colab_type": "text"
      },
      "source": [
        "<a href=\"https://colab.research.google.com/github/vimaleshraja/uber_data_analysis/blob/main/my_uber_data_analysis.ipynb\" target=\"_parent\"><img src=\"https://colab.research.google.com/assets/colab-badge.svg\" alt=\"Open In Colab\"/></a>"
      ]
    },
    {
      "cell_type": "code",
      "execution_count": null,
      "metadata": {
        "colab": {
          "base_uri": "https://localhost:8080/"
        },
        "id": "vkpM57zjKACa",
        "outputId": "31b5b859-1121-4922-90f6-14f15fe6fc52"
      },
      "outputs": [
        {
          "output_type": "stream",
          "name": "stdout",
          "text": [
            "Avg amount spent per ride: 17.60\n",
            "Avg amount spent per ride - BEST 20 day subset: 16.82\n",
            "Avg amount spent per ride - WORST 20 day subset: 18.45\n",
            "Avg amount spent per ride - BEST 30 day subset: 17.16\n",
            "Avg amount spent per ride - WORST 30 day subset: 18.01\n",
            "------- Net Cost Calculation -------\n",
            "\n",
            "Net Cost - Avg amnt spent per ride SO FAR in Uber * 30 Days : 1055.79\n",
            "Net Cost - BEST 20 day subset: 672.79\n",
            "Net Cost - WORST 20 day subset: 737.89\n",
            "Net Cost - BEST 30 day subset: 1029.46\n",
            "Net Cost - WORST 30 day subset: 1080.69\n"
          ]
        }
      ],
      "source": [
        "import pandas as pd\n",
        "import datetime as dt\n",
        "\n",
        "df = pd.read_csv(\"/content/trips_data.csv\")\n",
        "\n",
        "try:\n",
        "  df['Request Time'] = df['Request Time'].str.replace(\" UTC\",\"\")\n",
        "except AttributeError:\n",
        "  pass\n",
        "\n",
        "df['Request Time'] = pd.to_datetime(df['Request Time'], utc = True)\n",
        "df['Date'] = df['Request Time'].dt.date\n",
        "df.head()\n",
        "\n",
        "avg_20_day_fare = []\n",
        "\n",
        "for count,date in enumerate(df['Date'].unique()):\n",
        "  if count+19<len(df['Date'].unique()):\n",
        "    last_date = df['Date'].unique()[count+19]\n",
        "    new_df = df[df['Date'] >= last_date]\n",
        "    subset_df = new_df[new_df['Date'] <= date]\n",
        "    avg_20_day_fare.append(subset_df['Fare Amount'].mean())\n",
        "\n",
        "avg_30_day_fare = []\n",
        "\n",
        "for count,date in enumerate(df['Date'].unique()):\n",
        "  if count+29<len(df['Date'].unique()):\n",
        "    last_date = df['Date'].unique()[count+29]\n",
        "    new_df = df[df['Date'] >= last_date]\n",
        "    subset_df = new_df[new_df['Date'] <= date]\n",
        "    avg_30_day_fare.append(subset_df['Fare Amount'].mean())\n",
        "\n",
        "print(\"Avg amount spent per ride: {:.2f}\".format(df['Fare Amount'].mean()))\n",
        "print(\"Avg amount spent per ride - BEST 20 day subset: {:.2f}\".format(min(avg_20_day_fare)))\n",
        "print(\"Avg amount spent per ride - WORST 20 day subset: {:.2f}\".format(max(avg_20_day_fare)))\n",
        "print(\"Avg amount spent per ride - BEST 30 day subset: {:.2f}\".format(min(avg_30_day_fare)))\n",
        "print(\"Avg amount spent per ride - WORST 30 day subset: {:.2f}\".format(max(avg_30_day_fare)))\n",
        "\n",
        "print(\"------- Net Cost Calculation -------\\n\")\n",
        "print(\"Net Cost - Avg amnt spent per ride SO FAR in Uber * 30 Days : {:.2f}\".format(df['Fare Amount'].mean()*2*30))\n",
        "print(\"Net Cost - BEST 20 day subset: {:.2f}\".format(min(avg_20_day_fare)*20*2))\n",
        "print(\"Net Cost - WORST 20 day subset: {:.2f}\".format(max(avg_20_day_fare)*20*2))\n",
        "print(\"Net Cost - BEST 30 day subset: {:.2f}\".format(min(avg_30_day_fare)*30*2))\n",
        "print(\"Net Cost - WORST 30 day subset: {:.2f}\".format(max(avg_30_day_fare)*30*2))"
      ]
    }
  ]
}