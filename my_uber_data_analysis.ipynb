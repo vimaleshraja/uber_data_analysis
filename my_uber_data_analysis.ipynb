{
  "nbformat": 4,
  "nbformat_minor": 0,
  "metadata": {
    "colab": {
      "provenance": [],
      "authorship_tag": "ABX9TyPzzYIcvZKEc1P8U48ksK/N",
      "include_colab_link": true
    },
    "kernelspec": {
      "name": "python3",
      "display_name": "Python 3"
    },
    "language_info": {
      "name": "python"
    }
  },
  "cells": [
    {
      "cell_type": "markdown",
      "metadata": {
        "id": "view-in-github",
        "colab_type": "text"
      },
      "source": [
        "<a href=\"https://colab.research.google.com/github/vimaleshraja/uber_data_analysis/blob/main/my_uber_data_analysis.ipynb\" target=\"_parent\"><img src=\"https://colab.research.google.com/assets/colab-badge.svg\" alt=\"Open In Colab\"/></a>"
      ]
    },
    {
      "cell_type": "code",
      "execution_count": 17,
      "metadata": {
        "id": "vkpM57zjKACa"
      },
      "outputs": [],
      "source": [
        "import pandas as pd\n",
        "import datetime as dt\n",
        "\n",
        "df = pd.read_csv(\"/content/trips_data.csv\")\n",
        "\n",
        "try:\n",
        "  df['Request Time'] = df['Request Time'].str.replace(\" UTC\",\"\")\n",
        "except AttributeError:\n",
        "  pass\n",
        "\n",
        "df['Request Time'] = pd.to_datetime(df['Request Time'], utc = True)\n",
        "df['Date'] = df['Request Time'].dt.date\n",
        "df.head()\n",
        "\n",
        "avg_20_day_fare = []\n",
        "\n",
        "for count,date in enumerate(df['Date'].unique()):\n",
        "  if count+19<len(df['Date'].unique()):\n",
        "    last_date = df['Date'].unique()[count+19]\n",
        "    new_df = df[df['Date'] >= last_date]\n",
        "    subset_df = new_df[new_df['Date'] <= date]\n",
        "    avg_20_day_fare.append(subset_df['Fare Amount'].mean())\n",
        "\n",
        "avg_30_day_fare = []\n",
        "\n",
        "for count,date in enumerate(df['Date'].unique()):\n",
        "  if count+29<len(df['Date'].unique()):\n",
        "    last_date = df['Date'].unique()[count+29]\n",
        "    new_df = df[df['Date'] >= last_date]\n",
        "    subset_df = new_df[new_df['Date'] <= date]\n",
        "    avg_30_day_fare.append(subset_df['Fare Amount'].mean())\n"
      ]
    },
    {
      "cell_type": "code",
      "source": [
        "miles_traveled_last_20_days = []\n",
        "\n",
        "for count,date in enumerate(df['Date'].unique()):\n",
        "  if count+19<len(df['Date'].unique()):\n",
        "    last_date = df['Date'].unique()[count+19]\n",
        "    new_df = df[df['Date'] >= last_date]\n",
        "    subset_df = new_df[new_df['Date'] <= date]\n",
        "    miles_traveled_last_20_days.append(subset_df['Distance (miles)'].sum())\n",
        "\n",
        "\n",
        "miles_traveled_last_30_days = []\n",
        "\n",
        "for count,date in enumerate(df['Date'].unique()):\n",
        "  if count+29<len(df['Date'].unique()):\n",
        "    last_date = df['Date'].unique()[count+29]\n",
        "    new_df = df[df['Date'] >= last_date]\n",
        "    subset_df = new_df[new_df['Date'] <= date]\n",
        "    miles_traveled_last_30_days.append(subset_df['Distance (miles)'].sum())"
      ],
      "metadata": {
        "id": "qGZ2LIqw15tw"
      },
      "execution_count": 18,
      "outputs": []
    },
    {
      "cell_type": "code",
      "source": [
        "print(\"\\n------- Miles Calculation -------\\n\")\n",
        "print(\"Min sum of miles traveled - BEST 20 day subset: {:.2f}\".format(min(miles_traveled_last_20_days)))\n",
        "print(\"Max sum of miles traveled - WORST 20 day subset: {:.2f}\".format(max(miles_traveled_last_20_days)))\n",
        "print(\"Min sum of miles traveled - BEST 30 day subset: {:.2f}\".format(min(miles_traveled_last_30_days)))\n",
        "print(\"Max sum of miles traveled - WORST 30 day subset: {:.2f}\".format(max(miles_traveled_last_30_days)))\n",
        "\n",
        "print(\"\\n------- Fare Calculation -------\\n\")\n",
        "print(\"Avg amount spent per ride: {:.2f}\".format(df['Fare Amount'].mean()))\n",
        "print(\"Avg amount spent per ride - BEST 20 day subset: {:.2f}\".format(min(avg_20_day_fare)))\n",
        "print(\"Avg amount spent per ride - WORST 20 day subset: {:.2f}\".format(max(avg_20_day_fare)))\n",
        "print(\"Avg amount spent per ride - BEST 30 day subset: {:.2f}\".format(min(avg_30_day_fare)))\n",
        "print(\"Avg amount spent per ride - WORST 30 day subset: {:.2f}\".format(max(avg_30_day_fare)))\n",
        "\n",
        "print(\"\\n------- Net Cost Calculation -------\\n\")\n",
        "print(\"Net Cost - Avg amnt spent per ride SO FAR in Uber * 30 Days : {:.2f}\".format(df['Fare Amount'].mean()*2*30))\n",
        "print(\"Net Cost - BEST 20 day subset: {:.2f}\".format(min(avg_20_day_fare)*20*2))\n",
        "print(\"Net Cost - WORST 20 day subset: {:.2f}\".format(max(avg_20_day_fare)*20*2))\n",
        "print(\"Net Cost - BEST 30 day subset: {:.2f}\".format(min(avg_30_day_fare)*30*2))\n",
        "print(\"Net Cost - WORST 30 day subset: {:.2f}\".format(max(avg_30_day_fare)*30*2))"
      ],
      "metadata": {
        "colab": {
          "base_uri": "https://localhost:8080/"
        },
        "id": "BANkCEHu220b",
        "outputId": "4ec5dc98-7802-4c9c-bf9a-cf97ab4e6182"
      },
      "execution_count": 19,
      "outputs": [
        {
          "output_type": "stream",
          "name": "stdout",
          "text": [
            "\n",
            "------- Miles Calculation -------\n",
            "\n",
            "Min sum of miles traveled - BEST 20 day subset: 455.86\n",
            "Max sum of miles traveled - WORST 20 day subset: 512.60\n",
            "Min sum of miles traveled - BEST 30 day subset: 691.22\n",
            "Max sum of miles traveled - WORST 30 day subset: 747.46\n",
            "\n",
            "------- Fare Calculation -------\n",
            "\n",
            "Avg amount spent per ride: 17.60\n",
            "Avg amount spent per ride - BEST 20 day subset: 16.82\n",
            "Avg amount spent per ride - WORST 20 day subset: 18.45\n",
            "Avg amount spent per ride - BEST 30 day subset: 17.16\n",
            "Avg amount spent per ride - WORST 30 day subset: 18.01\n",
            "\n",
            "------- Net Cost Calculation -------\n",
            "\n",
            "Net Cost - Avg amnt spent per ride SO FAR in Uber * 30 Days : 1055.79\n",
            "Net Cost - BEST 20 day subset: 672.79\n",
            "Net Cost - WORST 20 day subset: 737.89\n",
            "Net Cost - BEST 30 day subset: 1029.46\n",
            "Net Cost - WORST 30 day subset: 1080.69\n"
          ]
        }
      ]
    }
  ]
}